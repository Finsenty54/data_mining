{
 "cells": [
  {
   "cell_type": "code",
   "execution_count": 1,
   "id": "israeli-necessity",
   "metadata": {},
   "outputs": [],
   "source": [
    "from collections import Counter\n",
    "import numpy as np\n",
    "import matplotlib.pyplot as plt\n",
    "import cv2 as cv\n",
    "import itertools\n",
    "import sys\n",
    "# 添加路径\n",
    "sys.path.append('/home/zentreisender/Documents/imformation/信息隐藏')\n",
    "from LSB.lsbSub import *\n",
    "from LSB.lsbm import *"
   ]
  },
  {
   "cell_type": "code",
   "execution_count": 2,
   "id": "indoor-recycling",
   "metadata": {},
   "outputs": [],
   "source": [
    "# 图片路径\n",
    "IMAGE = r'../img/'+str(1)+'.tiff'"
   ]
  },
  {
   "cell_type": "code",
   "execution_count": 3,
   "id": "educated-springfield",
   "metadata": {},
   "outputs": [],
   "source": [
    " # 获得灰度图片矩阵\n",
    "img_arry = cv.imread(IMAGE, cv.IMREAD_GRAYSCALE)\n"
   ]
  },
  {
   "cell_type": "code",
   "execution_count": 4,
   "id": "figured-beach",
   "metadata": {},
   "outputs": [],
   "source": [
    "embedding_lsbMatrix, chars = generateWaterMark(img_arry.shape)\n",
    "\n"
   ]
  },
  {
   "cell_type": "code",
   "execution_count": 5,
   "id": "copyrighted-bristol",
   "metadata": {},
   "outputs": [],
   "source": [
    "encode_LSBm = encodeLSBM(embedding_lsbMatrix, img_arry)"
   ]
  },
  {
   "cell_type": "code",
   "execution_count": null,
   "id": "alleged-classics",
   "metadata": {},
   "outputs": [],
   "source": []
  }
 ],
 "metadata": {
  "kernelspec": {
   "display_name": "Python 3",
   "language": "python",
   "name": "python3"
  },
  "language_info": {
   "codemirror_mode": {
    "name": "ipython",
    "version": 3
   },
   "file_extension": ".py",
   "mimetype": "text/x-python",
   "name": "python",
   "nbconvert_exporter": "python",
   "pygments_lexer": "ipython3",
   "version": "3.9.2"
  }
 },
 "nbformat": 4,
 "nbformat_minor": 5
}
