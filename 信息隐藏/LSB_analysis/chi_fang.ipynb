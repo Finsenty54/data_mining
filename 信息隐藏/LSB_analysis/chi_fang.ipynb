{
 "metadata": {
  "language_info": {
   "codemirror_mode": {
    "name": "ipython",
    "version": 3
   },
   "file_extension": ".py",
   "mimetype": "text/x-python",
   "name": "python",
   "nbconvert_exporter": "python",
   "pygments_lexer": "ipython3",
   "version": "3.9.2-final"
  },
  "orig_nbformat": 2,
  "kernelspec": {
   "name": "python3",
   "display_name": "Python 3"
  }
 },
 "nbformat": 4,
 "nbformat_minor": 2,
 "cells": [
  {
   "cell_type": "code",
   "execution_count": 1,
   "metadata": {},
   "outputs": [],
   "source": [
    "from collections import Counter\n",
    "import itertools\n",
    "import sys\n",
    "# 添加路径\n",
    "sys.path.append('/home/zentreisender/Documents/imformation/信息隐藏')\n",
    "from LSB.jsteg import *\n",
    "from LSB.lsbSub import *"
   ]
  },
  {
   "cell_type": "code",
   "execution_count": 2,
   "metadata": {},
   "outputs": [],
   "source": [
    "# 返回卡方差总和\n",
    "def chi_fang(ima):\n",
    "\n",
    "    # 将矩阵转为数组形式\n",
    "    List = list(itertools.chain.from_iterable(ima))\n",
    "    arr = np.array(List)\n",
    "\n",
    "    print(min(arr))\n",
    "    print(max(arr))\n",
    "\n",
    "    # 获得像素值对应的个数\n",
    "    result = {}\n",
    "    for k in range(256):\n",
    "        mask = (arr == k)\n",
    "        arr_new = arr[mask]\n",
    "        v = arr_new.size\n",
    "        result[k] = v\n",
    "\n",
    "    # 计算相临值的卡方差\n",
    "    sum = 0\n",
    "    for i in range(0, 128):\n",
    "        # 计算卡方差总和\n",
    "        sum = pow(result[2*i]-result[2*i+1], 2)+sum\n",
    "\n",
    "    return sum, result\n",
    "\n"
   ]
  },
  {
   "cell_type": "code",
   "execution_count": 6,
   "metadata": {},
   "outputs": [
    {
     "output_type": "stream",
     "name": "stdout",
     "text": [
      "[[166 165 166 ... 171 171 169]\n",
      " [167 165 164 ... 169 170 174]\n",
      " [165 164 164 ... 170 170 175]\n",
      " ...\n",
      " [137 138 138 ... 218 219 220]\n",
      " [136 137 139 ... 217 218 219]\n",
      " [137 139 139 ... 217 219 221]]\n",
      "uint8\n",
      "[[0. 1. 0. ... 1. 1. 1.]\n",
      " [1. 1. 0. ... 1. 0. 0.]\n",
      " [1. 0. 0. ... 0. 0. 1.]\n",
      " ...\n",
      " [1. 0. 0. ... 0. 1. 0.]\n",
      " [0. 1. 1. ... 1. 0. 1.]\n",
      " [1. 1. 1. ... 1. 1. 1.]]\n"
     ]
    }
   ],
   "source": [
    "    # 图片路径\n",
    "IMAGE = r'../img/ztfn.jpg'\n",
    "    # 获得灰度图片矩阵\n",
    "img_arry = cv.imread(IMAGE, cv.IMREAD_GRAYSCALE)\n",
    "print(img_arry)\n",
    "print(img_arry.dtype.name)\n",
    "    # 抽取出最低有效位平面\n",
    "original_lsbMatrix = getLSBMatrix(img_arry)\n",
    "print(original_lsbMatrix)\n",
    "    # 均值 和方差\n",
    "    #mean, variance = getMatrixDetail(original_lsbMatrix)\n",
    "\n"
   ]
  },
  {
   "cell_type": "code",
   "execution_count": 4,
   "metadata": {},
   "outputs": [
    {
     "output_type": "stream",
     "name": "stdout",
     "text": [
      "[[0. 1. 0. ... 0. 1. 0.]\n [0. 1. 0. ... 0. 0. 1.]\n [0. 1. 0. ... 0. 0. 1.]\n ...\n [0. 1. 0. ... 0. 1. 1.]\n [0. 1. 0. ... 0. 1. 0.]\n [0. 1. 0. ... 0. 0. 0.]]\n"
     ]
    }
   ],
   "source": [
    "embedding_lsbMatrix1, chars1 = generateWaterMark(img_arry.shape)\n",
    "print(embedding_lsbMatrix1)\n",
    "embedding_lsbMatrix2, chars2 = generateWaterMark(img_arry.shape)"
   ]
  },
  {
   "cell_type": "code",
   "execution_count": 5,
   "metadata": {},
   "outputs": [
    {
     "output_type": "stream",
     "name": "stdout",
     "text": [
      "[[166 165 166 ... 170 171 168]\n [166 165 164 ... 168 170 175]\n [164 165 164 ... 170 170 175]\n ...\n [136 139 138 ... 218 219 221]\n [136 137 138 ... 216 219 218]\n [136 139 138 ... 216 218 220]]\n"
     ]
    }
   ],
   "source": [
    "\n",
    "    #print(\"嵌入量：%d\" %(embedding_lsbMatrix.size))\n",
    "    # print(\"嵌入值：\"+chars)\n",
    "encode_LSB_img1 = encodeLSB(\n",
    "        embedding_lsbMatrix1,\n",
    "        img_arry)\n",
    "encode_LSB_img2 = encodeLSB(\n",
    "        embedding_lsbMatrix2,\n",
    "        img_arry)\n",
    "print(encode_LSB_img1)\n",
    "\n"
   ]
  },
  {
   "cell_type": "code",
   "execution_count": 7,
   "metadata": {},
   "outputs": [
    {
     "output_type": "stream",
     "name": "stdout",
     "text": [
      "0\n",
      "251\n",
      "1\n",
      "251\n",
      "1\n",
      "251\n",
      "chi_unencode: 3327208 , chi_encode: 26273524\n"
     ]
    }
   ],
   "source": [
    "\n",
    "    # print(encode_LSB_img)\n",
    "chi_encode1, result1 = chi_fang(encode_LSB_img1)\n",
    "chi_encode2, result2 = chi_fang(encode_LSB_img2)\n",
    "chi_unencode, result = chi_fang(img_arry)\n",
    "\n",
    "    # 打印原图像卡方差，嵌入后图像卡方差\n",
    "print(\"chi_unencode: %d , chi_encode: %d\" % (chi_unencode, chi_encode1))"
   ]
  },
  {
   "cell_type": "code",
   "execution_count": null,
   "metadata": {},
   "outputs": [],
   "source": []
  }
 ]
}