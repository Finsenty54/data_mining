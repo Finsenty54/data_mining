{
 "cells": [
  {
   "cell_type": "markdown",
   "id": "insured-color",
   "metadata": {},
   "source": [
    "方理楠-201270001"
   ]
  },
  {
   "cell_type": "code",
   "execution_count": 51,
   "id": "residential-portrait",
   "metadata": {},
   "outputs": [],
   "source": [
    "import numpy as np\n",
    "import matplotlib.pyplot as plt\n",
    "import threading\n",
    "import random\n",
    "from time import time"
   ]
  },
  {
   "cell_type": "code",
   "execution_count": 52,
   "id": "comfortable-diversity",
   "metadata": {},
   "outputs": [],
   "source": [
    "# sigmoid函数\n",
    "def sigmoid(x):\n",
    "    return 1 / (1 + np.exp(-x))"
   ]
  },
  {
   "cell_type": "code",
   "execution_count": 53,
   "id": "smart-berry",
   "metadata": {},
   "outputs": [],
   "source": [
    "# 从文件中读取训练数据\n",
    "def parse_train_data(filename):\n",
    "    data = np.loadtxt(fname=filename, delimiter=',')\n",
    "    dataMat = data[:, 0:-1]\n",
    "    classLabels = data[:, -1]\n",
    "    dataMat = np.insert(dataMat, 0, 1, axis=1)  # 按列在每行位置0插入1，即偏置项，与weights对齐\n",
    "\n",
    "    return dataMat, classLabels"
   ]
  },
  {
   "cell_type": "code",
   "execution_count": 54,
   "id": "handy-musician",
   "metadata": {},
   "outputs": [],
   "source": [
    "# 从文件中读取测试数据\n",
    "def parse_test_data(filename):\n",
    "    data = np.loadtxt(fname=filename, delimiter=',')\n",
    "    dataMat = data[:, :]\n",
    "    dataMat = np.insert(dataMat, 0, 1, axis=1)  # 按列在每行位置0插入1，即偏置项，与weights对齐\n",
    "\n",
    "    return dataMat"
   ]
  },
  {
   "cell_type": "code",
   "execution_count": 55,
   "id": "effective-advertiser",
   "metadata": {},
   "outputs": [],
   "source": [
    "# 损失函数\n",
    "def loss_funtion(dataMat, classLabels, weights):\n",
    "    m, n = np.shape(dataMat)\n",
    "    loss = 0.0\n",
    "    for i in range(m):\n",
    "        logit = 0.0\n",
    "        for j in range(n):\n",
    "            logit += dataMat[i, j] * weights.T[0, j]  # 计算一个样本的log-odds(logit)\n",
    "        propability = sigmoid(logit)\n",
    "        loss += classLabels[i, 0] * np.log(propability) + (\n",
    "            1 - classLabels[i, 0]) * np.log(1 - propability)  # 损失函数\n",
    "    return loss"
   ]
  },
  {
   "cell_type": "code",
   "execution_count": 56,
   "id": "applicable-keeping",
   "metadata": {},
   "outputs": [],
   "source": [
    "# 梯度上升\n",
    "def grad_Ascent(dataMatIn, classLabels):\n",
    "    dataMatrix = np.mat(dataMatIn)  # (m,n)\n",
    "    labelMat = np.mat(classLabels).T\n",
    "    m, n = np.shape(dataMatrix)\n",
    "    weights = np.ones((n, 1))  # 列向量\n",
    "    alpha = 0.01\n",
    "    maxstep = 150  # 迭代次数\n",
    "    eps = 0.0001  # 损失小于一个阈值返回\n",
    "    count = 0\n",
    "\n",
    "    for i in range(maxstep):\n",
    "        #loss = loss_funtion(dataMatrix, labelMat, weights)\n",
    "\n",
    "        h_theta_x = sigmoid(dataMatrix * weights)  # g(h(x))\n",
    "        e = labelMat - h_theta_x  # y-g(h(x))\n",
    "        new_weights = weights + alpha * dataMatrix.T * e  # 迭代\n",
    "        #new_loss = loss_funtion(dataMatrix, labelMat, new_weights)\n",
    "        #if abs(new_loss - loss) < eps:\n",
    "        #    break\n",
    "        #else:\n",
    "        weights = new_weights\n",
    "        #count += 1\n",
    "\n",
    "    #print(\"count is: \", count)\n",
    "    #print(\"weights is: \", weights)\n",
    "\n",
    "    return weights\n"
   ]
  },
  {
   "cell_type": "code",
   "execution_count": 57,
   "id": "vietnamese-thomas",
   "metadata": {},
   "outputs": [],
   "source": [
    "# 随机梯度上升\n",
    "def stocGradAscent(dataMatrix, classLabels, numIter=100):\n",
    "    m, n = np.shape(dataMatrix)  # 返回dataMatrix的大小。m为行数,n为列数。\n",
    "    weights = np.ones(n)  # 参数初始化\n",
    "    for j in range(numIter):\n",
    "        dataIndex = list(range(m))  #记录样本点索引\n",
    "        for i in range(m):\n",
    "            alpha = 4/(1.0+j+i)+0.01  # 降低alpha的大小，每次减小1/(j+i)。\n",
    "            randIndex = int(random.uniform(0, len(dataIndex)))  # 随机选取样本\n",
    "            # 选择随机选取的一个样本，计算h\n",
    "            h = sigmoid(sum(dataMatrix[dataIndex[randIndex]]*weights))\n",
    "            error = classLabels[dataIndex[randIndex]] - h  # 计算误差\n",
    "            weights = weights + alpha * error * \\\n",
    "                dataMatrix[dataIndex[randIndex]]  # 更新回归系数\n",
    "            del(dataIndex[randIndex])  # 删除已经使用的样本\n",
    "    return weights  # 返回\n"
   ]
  },
  {
   "cell_type": "code",
   "execution_count": 58,
   "id": "discrete-instrumentation",
   "metadata": {},
   "outputs": [],
   "source": [
    "# 分类函数 特征向量，回归系数\n",
    "def classifyVector(inX, weights):\n",
    "    prob = sigmoid(sum(inX*weights))\n",
    "    if prob > 0.5:\n",
    "        return 1.0\n",
    "    else:\n",
    "        return 0.0"
   ]
  },
  {
   "cell_type": "code",
   "execution_count": 59,
   "id": "dimensional-malpractice",
   "metadata": {},
   "outputs": [],
   "source": [
    "def lr():\n",
    "    data_train, labels_train = parse_train_data('train_data.txt')\n",
    "    train_weights = grad_Ascent(data_train, labels_train)\n",
    "\n",
    "    data_test = parse_test_data('test_data.txt')\n",
    "    labels_test = np.loadtxt('answer.txt')\n",
    "    correct_count = 0\n",
    "    m, n = np.shape(data_test)\n",
    "    for i in range(m):\n",
    "        if classifyVector(data_test[i], train_weights) == labels_test[i]:\n",
    "            correct_count += 1\n",
    "    correct_rate = (correct_count/m)*100\n",
    "    print(\"测试集准确率为: %.2f%%\" % correct_rate)"
   ]
  },
  {
   "cell_type": "code",
   "execution_count": null,
   "id": "binding-vertical",
   "metadata": {},
   "outputs": [],
   "source": [
    "if __name__ == '__main__':\n",
    "    start=time()\n",
    "    lr()\n",
    "    end=time()\n",
    "    print('耗时： %d 秒' %(end-start))"
   ]
  }
 ],
 "metadata": {
  "kernelspec": {
   "display_name": "Python 3",
   "language": "python",
   "name": "python3"
  },
  "language_info": {
   "codemirror_mode": {
    "name": "ipython",
    "version": 3
   },
   "file_extension": ".py",
   "mimetype": "text/x-python",
   "name": "python",
   "nbconvert_exporter": "python",
   "pygments_lexer": "ipython3",
   "version": "3.9.2"
  }
 },
 "nbformat": 4,
 "nbformat_minor": 5
}
